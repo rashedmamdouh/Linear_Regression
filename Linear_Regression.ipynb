{
 "cells": [
  {
   "cell_type": "markdown",
   "id": "e583c7be",
   "metadata": {},
   "source": [
    "# import some important libraries  \n",
    "numpy ,pandas ,matplotlib"
   ]
  },
  {
   "cell_type": "code",
   "execution_count": 1,
   "id": "3b544e36",
   "metadata": {},
   "outputs": [],
   "source": [
    "import numpy as np\n",
    "import pandas as pd\n",
    "import matplotlib.pyplot as plt\n"
   ]
  },
  {
   "cell_type": "markdown",
   "id": "86566293",
   "metadata": {},
   "source": [
    "# Read and show the Data"
   ]
  },
  {
   "cell_type": "code",
   "execution_count": 2,
   "id": "b3fd5ed5",
   "metadata": {},
   "outputs": [
    {
     "name": "stdout",
     "output_type": "stream",
     "text": [
      "    customer_number    profit\n",
      "0            6.1101  17.59200\n",
      "1            5.5277   9.13020\n",
      "2            8.5186  13.66200\n",
      "3            7.0032  11.85400\n",
      "4            5.8598   6.82330\n",
      "5            8.3829  11.88600\n",
      "6            7.4764   4.34830\n",
      "7            8.5781  12.00000\n",
      "8            6.4862   6.59870\n",
      "9            5.0546   3.81660\n",
      "10           5.7107   3.25220\n",
      "11          14.1640  15.50500\n",
      "12           5.7340   3.15510\n",
      "13           8.4084   7.22580\n",
      "14           5.6407   0.71618\n",
      "15           5.3794   3.51290\n",
      "16           6.3654   5.30480\n",
      "17           5.1301   0.56077\n",
      "18           6.4296   3.65180\n",
      "19           7.0708   5.38930\n",
      "20           6.1891   3.13860\n",
      "21          20.2700  21.76700\n",
      "22           5.4901   4.26300\n",
      "23           6.3261   5.18750\n",
      "24           5.5649   3.08250\n",
      "25          18.9450  22.63800\n",
      "26          12.8280  13.50100\n",
      "27          10.9570   7.04670\n",
      "28          13.1760  14.69200\n",
      "29          22.2030  24.14700\n",
      "30           5.2524  -1.22000\n",
      "31           6.5894   5.99660\n",
      "32           9.2482  12.13400\n",
      "33           5.8918   1.84950\n",
      "34           8.2111   6.54260\n",
      "35           7.9334   4.56230\n",
      "36           8.0959   4.11640\n",
      "37           5.6063   3.39280\n",
      "38          12.8360  10.11700\n",
      "39           6.3534   5.49740\n",
      "40           5.4069   0.55657\n",
      "41           6.8825   3.91150\n",
      "42          11.7080   5.38540\n",
      "43           5.7737   2.44060\n",
      "44           7.8247   6.73180\n",
      "45           7.0931   1.04630\n",
      "46           5.0702   5.13370\n",
      "47           5.8014   1.84400\n",
      "48          11.7000   8.00430\n",
      "49           5.5416   1.01790\n",
      "50           7.5402   6.75040\n",
      "51           5.3077   1.83960\n",
      "52           7.4239   4.28850\n",
      "53           7.6031   4.99810\n",
      "54           6.3328   1.42330\n",
      "55           6.3589  -1.42110\n",
      "56           6.2742   2.47560\n",
      "57           5.6397   4.60420\n",
      "58           9.3102   3.96240\n",
      "59           9.4536   5.41410\n",
      "60           8.8254   5.16940\n",
      "61           5.1793  -0.74279\n",
      "62          21.2790  17.92900\n",
      "63          14.9080  12.05400\n",
      "64          18.9590  17.05400\n",
      "65           7.2182   4.88520\n",
      "66           8.2951   5.74420\n",
      "67          10.2360   7.77540\n",
      "68           5.4994   1.01730\n",
      "69          20.3410  20.99200\n",
      "70          10.1360   6.67990\n",
      "71           7.3345   4.02590\n",
      "72           6.0062   1.27840\n",
      "73           7.2259   3.34110\n",
      "74           5.0269  -2.68070\n",
      "75           6.5479   0.29678\n",
      "76           7.5386   3.88450\n",
      "77           5.0365   5.70140\n",
      "78          10.2740   6.75260\n",
      "79           5.1077   2.05760\n",
      "80           5.7292   0.47953\n",
      "81           5.1884   0.20421\n",
      "82           6.3557   0.67861\n",
      "83           9.7687   7.54350\n",
      "84           6.5159   5.34360\n",
      "85           8.5172   4.24150\n",
      "86           9.1802   6.79810\n",
      "87           6.0020   0.92695\n",
      "88           5.5204   0.15200\n",
      "89           5.0594   2.82140\n",
      "90           5.7077   1.84510\n",
      "91           7.6366   4.29590\n",
      "92           5.8707   7.20290\n",
      "93           5.3054   1.98690\n",
      "94           8.2934   0.14454\n",
      "95          13.3940   9.05510\n",
      "96           5.4369   0.61705\n"
     ]
    }
   ],
   "source": [
    "data=pd.read_csv(\"assignment1_dataset.csv\")\n",
    "df=pd.DataFrame(data)\n",
    "print (df.to_string())"
   ]
  },
  {
   "cell_type": "markdown",
   "id": "300fac1a",
   "metadata": {},
   "source": [
    "# Data Representation\n",
    "Scatter plot show the relation between the number of the restaurant's customers and the profit of the restaurant.\n"
   ]
  },
  {
   "cell_type": "markdown",
   "id": "350d1e6f",
   "metadata": {},
   "source": [
    "The plot shows that : 1) the most of the data values ranged between 5 to 10 ."
   ]
  },
  {
   "cell_type": "markdown",
   "id": "4475980c",
   "metadata": {},
   "source": [
    "                2) the profit is directly proportional to the number of customers."
   ]
  },
  {
   "cell_type": "code",
   "execution_count": 3,
   "id": "3bf04f5c",
   "metadata": {},
   "outputs": [
    {
     "data": {
      "text/plain": [
       "Text(0, 0.5, 'profit')"
      ]
     },
     "execution_count": 3,
     "metadata": {},
     "output_type": "execute_result"
    },
    {
     "data": {
      "image/png": "[encoded data removed]",
      "text/plain": [
       "<Figure size 720x432 with 1 Axes>"
      ]
     },
     "metadata": {
      "needs_background": "light"
     },
     "output_type": "display_data"
    }
   ],
   "source": [
    "plt.figure(figsize=(10,6))\n",
    "plt.scatter(df['customer_number'],df[\"profit\"])\n",
    "plt.xlabel(\"customer_number\")\n",
    "plt.ylabel(\"profit\")\n"
   ]
  },
  {
   "cell_type": "code",
   "execution_count": 4,
   "id": "fef2d6a5",
   "metadata": {},
   "outputs": [],
   "source": [
    "# Assign iteration number and  alpha\n",
    "iterations = 1500\n",
    "alpha = 0.01"
   ]
  },
  {
   "cell_type": "code",
   "execution_count": 5,
   "id": "4f505104",
   "metadata": {},
   "outputs": [],
   "source": [
    "# Split customer_number and profit into X and y\n",
    "X_df = pd.DataFrame(data[\"customer_number\"])\n",
    "y_df = pd.DataFrame(data[\"profit\"])"
   ]
  },
  {
   "cell_type": "code",
   "execution_count": 6,
   "id": "19c61547",
   "metadata": {},
   "outputs": [],
   "source": [
    "## Add a columns of 1s as intercept to X(2D)\n",
    "X_df['intercept'] = 1\n"
   ]
  },
  {
   "cell_type": "code",
   "execution_count": 7,
   "id": "b7d627d1",
   "metadata": {},
   "outputs": [],
   "source": [
    "## Transform to Numpy arrays for easier matrix math and start thetas at 0\n",
    "x = np.array(X_df)\n",
    "y = np.array(y_df).flatten()\n",
    "theta = np.array([0, 0])\n"
   ]
  },
  {
   "cell_type": "markdown",
   "id": "2d76ebab",
   "metadata": {},
   "source": [
    "# Plotting the first fit line at zero thetas"
   ]
  },
  {
   "cell_type": "code",
   "execution_count": 8,
   "id": "7cc3775c",
   "metadata": {},
   "outputs": [
    {
     "data": {
      "text/plain": [
       "Text(0, 0.5, 'Profit')"
      ]
     },
     "execution_count": 8,
     "metadata": {},
     "output_type": "execute_result"
    },
    {
     "data": {
      "image/png": "[encoded data removed]",
      "text/plain": [
       "<Figure size 720x432 with 1 Axes>"
      ]
     },
     "metadata": {
      "needs_background": "light"
     },
     "output_type": "display_data"
    }
   ],
   "source": [
    "best_fit_x = np.linspace(0, 25, 20)        #generate numbers for x values\n",
    "best_fit_y = [0 + 0*x for x in best_fit_x] #substitute in the equation y=Θ1*x+Θ0\n",
    "\n",
    "X_df=X_df.drop([\"intercept\"], axis=1)\n",
    "plt.figure(figsize=(10,6))\n",
    "plt.plot(X_df, y_df, '.') #plot the data\n",
    "plt.plot(best_fit_x, best_fit_y, '-') #plot y=0*x+0\n",
    "plt.axis([0,25,-5,25])\n",
    "plt.xlabel(\"customer_number\")\n",
    "plt.ylabel(\"Profit\")\n"
   ]
  },
  {
   "cell_type": "code",
   "execution_count": 9,
   "id": "bc2177c9",
   "metadata": {},
   "outputs": [],
   "source": [
    "## Add a columns of 1s as intercept to X(2D)\n",
    "X_df['intercept'] = 1\n"
   ]
  },
  {
   "cell_type": "markdown",
   "id": "4b1169ca",
   "metadata": {},
   "source": [
    "# Create computeCost function\n",
    " function called computeCost(x, y, theta)    which return the cost of given thetas (j(Θ))\n",
    "<img src=\"cost.png\">"
   ]
  },
  {
   "cell_type": "code",
   "execution_count": 10,
   "id": "041cfe40",
   "metadata": {},
   "outputs": [],
   "source": [
    "def computeCost(x, y, theta):\n",
    "    \n",
    "    ## number of training examples\n",
    "    m = len(y) \n",
    "    \n",
    "    ## Calculate the cost with the given parameters\n",
    "    J = np.sum((x.dot(theta)-y)**2)/2/m\n",
    "\n",
    "    return J"
   ]
  },
  {
   "cell_type": "code",
   "execution_count": 11,
   "id": "33a8d0a9",
   "metadata": {},
   "outputs": [
    {
     "data": {
      "text/plain": [
       "32.072733877455676"
      ]
     },
     "execution_count": 11,
     "metadata": {},
     "output_type": "execute_result"
    }
   ],
   "source": [
    "#computeCost at initial theta (zeros) \n",
    "computeCost(x, y, theta)"
   ]
  },
  {
   "cell_type": "markdown",
   "id": "7aef371a",
   "metadata": {},
   "source": [
    "# Create gradient_descent function\n",
    "function called gradient_descent(x, y, theta) which  return the thetas of the final fitting after irretrations ,cost history and thetas history\n",
    " <img src=\"1_GD.png\">\n"
   ]
  },
  {
   "cell_type": "code",
   "execution_count": 19,
   "id": "2902fc4d",
   "metadata": {},
   "outputs": [],
   "source": [
    "def gradient_descent(x, y, theta, alpha, iterations):\n",
    "  \n",
    "    J_history = [0] * iterations             #list for keep track of each cost update in a variable called J_history\n",
    "    theta_history = [0] * iterations         # keep track of the theta values in each irretration\n",
    "\n",
    "    ## number of training examples\n",
    "    m = len(y)\n",
    "    \n",
    "    for i in range(iterations):\n",
    "        \n",
    "        yhat = x.dot(theta)\n",
    "        loss = yhat-y\n",
    "        gradient = np.transpose(x).dot(loss)/m\n",
    "        theta = theta - alpha*gradient\n",
    "        \n",
    "        theta_history[i] = theta   \n",
    "        cost = computeCost(x, y, theta)\n",
    "        J_history[i] = cost  \n",
    "          \n",
    "    return theta, J_history, theta_history\n",
    "     "
   ]
  },
  {
   "cell_type": "markdown",
   "id": "9ec0deb9",
   "metadata": {},
   "source": [
    "# Iterations DataFrame\n",
    "keep track of the thetas and the output cost\n"
   ]
  },
  {
   "cell_type": "code",
   "execution_count": 20,
   "id": "465c1833",
   "metadata": {},
   "outputs": [
    {
     "data": {
      "text/plain": [
       "array([ 1.16636235, -3.63029144])"
      ]
     },
     "execution_count": 20,
     "metadata": {},
     "output_type": "execute_result"
    }
   ],
   "source": [
    "(thetas, J_history, theta_history) = gradient_descent(x,y,theta,alpha, iterations)\n",
    "thetas"
   ]
  },
  {
   "cell_type": "code",
   "execution_count": null,
   "id": "d9862a38",
   "metadata": {},
   "outputs": [],
   "source": [
    "# represent the iteration thetas and cost\n",
    "t=pd.DataFrame(theta_history)\n",
    "j=pd.DataFrame(J_history)\n",
    "t.columns = ['Θ1', 'Θ0']\n",
    "j.columns = ['cost']\n",
    "df_row = pd.concat([t, j], axis=1)\n",
    "print(df_row.to_string())"
   ]
  },
  {
   "cell_type": "markdown",
   "id": "19b219dd",
   "metadata": {},
   "source": [
    "# Plot the regression line fit   "
   ]
  },
  {
   "cell_type": "code",
   "execution_count": null,
   "id": "a1324b4e",
   "metadata": {},
   "outputs": [],
   "source": [
    "#drop the ones line for plotting\n",
    "X_df=X_df.drop([\"intercept\"], axis=1)"
   ]
  },
  {
   "cell_type": "code",
   "execution_count": null,
   "id": "d4ba3d5a",
   "metadata": {},
   "outputs": [],
   "source": [
    "#Plotting the best fit line\n",
    "best_fit_x = np.linspace(0, 25, 20)      #generate numbers for x values\n",
    "best_fit_y = [thetas[1] + thetas[0]*x for x in best_fit_x]      #substitute in the equation y=Θ1*x+Θ0 (y=1.16x-3.63)\n"
   ]
  },
  {
   "cell_type": "code",
   "execution_count": null,
   "id": "9c14f220",
   "metadata": {},
   "outputs": [],
   "source": [
    "plt.figure(figsize=(10,6))\n",
    "plt.plot(X_df, y_df, '.')    #plot the data\n",
    "plt.plot(best_fit_x, best_fit_y, '-')     #plot y=0*x+0\n",
    "plt.axis([0,25,-5,25])\n",
    "plt.xlabel(\"customer_number\")\n",
    "plt.ylabel(\"Profit\")\n"
   ]
  },
  {
   "cell_type": "markdown",
   "id": "a9e35f40",
   "metadata": {},
   "source": [
    "# Plot the cost in each iteration (J_history)"
   ]
  },
  {
   "cell_type": "code",
   "execution_count": null,
   "id": "eda7720d",
   "metadata": {},
   "outputs": [],
   "source": [
    "#The cost decreases by each iteration by weight updates (decsreased function)\n",
    "plt.figure(figsize=(10,6))\n",
    "n=np.arange(0, 1500,1)\n",
    "plt.plot(n,J_history)\n",
    "plt.xlabel(\"Num iter\")\n",
    "plt.ylabel(\"cost\")"
   ]
  },
  {
   "cell_type": "markdown",
   "id": "dfac5e7d",
   "metadata": {},
   "source": [
    "# Profit Estimation"
   ]
  },
  {
   "cell_type": "code",
   "execution_count": null,
   "id": "7d3c4fe8",
   "metadata": {},
   "outputs": [],
   "source": [
    "#y=Θ1*x+Θ0*1\n",
    "#y=1.16x-3.63\n",
    "print(\"profit when customres is 35000 =\",np.array([35000, 1]).dot(thetas))\n",
    "print(\"profit when customres is 70000 =\", np.array([70000, 1]).dot(thetas))"
   ]
  }
 ],
 "metadata": {
  "kernelspec": {
   "display_name": "Python 3 (ipykernel)",
   "language": "python",
   "name": "python3"
  },
  "language_info": {
   "codemirror_mode": {
    "name": "ipython",
    "version": 3
   },
   "file_extension": ".py",
   "mimetype": "text/x-python",
   "name": "python",
   "nbconvert_exporter": "python",
   "pygments_lexer": "ipython3",
   "version": "3.9.7"
  },
  "varInspector": {
   "cols": {
    "lenName": 16,
    "lenType": 16,
    "lenVar": 40
   },
   "kernels_config": {
    "python": {
     "delete_cmd_postfix": "",
     "delete_cmd_prefix": "del ",
     "library": "var_list.py",
     "varRefreshCmd": "print(var_dic_list())"
    },
    "r": {
     "delete_cmd_postfix": ") ",
     "delete_cmd_prefix": "rm(",
     "library": "var_list.r",
     "varRefreshCmd": "cat(var_dic_list()) "
    }
   },
   "types_to_exclude": [
    "module",
    "function",
    "builtin_function_or_method",
    "instance",
    "_Feature"
   ],
   "window_display": false
  }
 },
 "nbformat": 4,
 "nbformat_minor": 5
}
